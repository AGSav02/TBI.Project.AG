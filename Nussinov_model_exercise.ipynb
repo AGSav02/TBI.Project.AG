{
 "cells": [
  {
   "cell_type": "code",
   "execution_count": 11,
   "id": "f31f221b",
   "metadata": {},
   "outputs": [
    {
     "name": "stdout",
     "output_type": "stream",
     "text": [
      "..((...))..(.....()....)......\n"
     ]
    }
   ],
   "source": [
    "def displaySeqStr(joined, n): \n",
    "    \"\"\"  input:\n",
    "    function\n",
    "    output\"\"\"                        #Function inputs: the position of base pairs and the lenght og the sequence\n",
    "    structure = ['.'] * n                                 #start by making all the nucleotide unpaired, all \".\"\n",
    "    for l, r in joined:                                   #Select left and right nucleotide in the base pair input\n",
    "        structure[l] = '('                                #Put an opening bracket for the first nuletide of the bp\n",
    "        structure[r] = ')'                                #Put a closing bracket for the second nuletide of the bp\n",
    "    return ''.join(structure)                             #join the brackets to the dots\n",
    "\n",
    "\n",
    "structure_map = displaySeqStr([(2,8),(3,7),(11,18),(17,23)],30)\n",
    "print(structure_map)\n",
    "\n",
    "\n"
   ]
  },
  {
   "cell_type": "code",
   "execution_count": null,
   "id": "27793df5",
   "metadata": {},
   "outputs": [
    {
     "name": "stdout",
     "output_type": "stream",
     "text": [
      "([(3, 7), (1, 8), (0, 9)], 10)\n"
     ]
    }
   ],
   "source": [
    "def parseSeqStr(struct):\n",
    "    n = len(struct)\n",
    "    bp_index = []\n",
    "    stack = []\n",
    "\n",
    "    for i, char in enumerate(struct):\n",
    "        if char == '(':\n",
    "            stack.append(i)\n",
    "        elif char == ')':\n",
    "            if not stack:\n",
    "                raise ValueError(\"Unmatched ')'\")\n",
    "            j = stack.pop()\n",
    "            bp_index.append((j,i))\n",
    "    if stack:\n",
    "        raise ValueError(\"Unmatched ')'\")\n",
    "    return bp_index, n\n",
    "\n",
    "display_index = parseSeqStr(\"((.(...)))\")\n",
    "print(display_index)\n",
    "\n"
   ]
  },
  {
   "cell_type": "code",
   "execution_count": null,
   "id": "6851a461",
   "metadata": {},
   "outputs": [],
   "source": []
  },
  {
   "cell_type": "code",
   "execution_count": 17,
   "id": "528d2215",
   "metadata": {},
   "outputs": [
    {
     "name": "stdout",
     "output_type": "stream",
     "text": [
      "Stack:  ['A', 'B', 'C']\n",
      "Peek:  C\n",
      "Pop:  C\n",
      "Stack after Pop:  ['A', 'B']\n",
      "isEmpty:  False\n",
      "Size:  2\n"
     ]
    }
   ],
   "source": [
    "stack = []\n",
    "\n",
    "# Push\n",
    "stack.append('A')\n",
    "stack.append('B')\n",
    "stack.append('C')\n",
    "print(\"Stack: \", stack)\n",
    "\n",
    "# Peek\n",
    "topElement = stack[-1]\n",
    "print(\"Peek: \", topElement)\n",
    "\n",
    "# Pop\n",
    "poppedElement = stack.pop()\n",
    "print(\"Pop: \", poppedElement)\n",
    "\n",
    "# Stack after Pop\n",
    "print(\"Stack after Pop: \", stack)\n",
    "\n",
    "# isEmpty\n",
    "isEmpty = not bool(stack)\n",
    "print(\"isEmpty: \", isEmpty)\n",
    "\n",
    "# Size\n",
    "print(\"Size: \",len(stack))"
   ]
  },
  {
   "cell_type": "code",
   "execution_count": 18,
   "id": "88820d6f",
   "metadata": {},
   "outputs": [
    {
     "name": "stdout",
     "output_type": "stream",
     "text": [
      "Stack:  ['A', 'B', 'C']\n",
      "Pop:  C\n",
      "Stack after Pop:  ['A', 'B']\n",
      "Peek:  B\n",
      "isEmpty:  False\n",
      "Size:  2\n"
     ]
    }
   ],
   "source": [
    "\n",
    "class Stack:\n",
    "  def __init__(self):\n",
    "    self.stack = []\n",
    "\n",
    "  def push(self, element):\n",
    "    self.stack.append(element)\n",
    "\n",
    "  def pop(self):\n",
    "    if self.isEmpty():\n",
    "      return \"Stack is empty\"\n",
    "    return self.stack.pop()\n",
    "\n",
    "  def peek(self):\n",
    "    if self.isEmpty():\n",
    "      return \"Stack is empty\"\n",
    "    return self.stack[-1]\n",
    "\n",
    "  def isEmpty(self):\n",
    "    return len(self.stack) == 0\n",
    "\n",
    "  def size(self):\n",
    "    return len(self.stack)\n",
    "\n",
    "# Create a stack\n",
    "myStack = Stack()\n",
    "\n",
    "myStack.push('A')\n",
    "myStack.push('B')\n",
    "myStack.push('C')\n",
    "\n",
    "print(\"Stack: \", myStack.stack)\n",
    "print(\"Pop: \", myStack.pop())\n",
    "print(\"Stack after Pop: \", myStack.stack)\n",
    "print(\"Peek: \", myStack.peek())\n",
    "print(\"isEmpty: \", myStack.isEmpty())\n",
    "print(\"Size: \", myStack.size())"
   ]
  }
 ],
 "metadata": {
  "kernelspec": {
   "display_name": "Python 3",
   "language": "python",
   "name": "python3"
  },
  "language_info": {
   "codemirror_mode": {
    "name": "ipython",
    "version": 3
   },
   "file_extension": ".py",
   "mimetype": "text/x-python",
   "name": "python",
   "nbconvert_exporter": "python",
   "pygments_lexer": "ipython3",
   "version": "3.13.5"
  }
 },
 "nbformat": 4,
 "nbformat_minor": 5
}
